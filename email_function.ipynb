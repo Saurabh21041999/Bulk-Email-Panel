{
 "cells": [
  {
   "cell_type": "code",
   "execution_count": 2,
   "metadata": {},
   "outputs": [],
   "source": [
    "import smtplib                                          #use to deal with mails of gmail\n",
    "def email_send_fun(to,subject,message,from_,pass_):\n",
    "    \n",
    "    s=smtplib.SMTP(\"smtp.gmail.com\",587)                #create session for gmail\n",
    "    s.starttls()                                       #activate transport layer\n",
    "    s.login(from_,pass_)\n",
    "    msg=\"subject: {}\\n\\n{}\".format(subject,message)\n",
    "    s.sendmail(from_,to,msg)\n",
    "    x=s.ehlo()                                            #Return status\n",
    "    if x[0]==250:\n",
    "        return \"s\"\n",
    "    else:\n",
    "        return \"f\"\n",
    "    s.close()\n",
    "   "
   ]
  },
  {
   "cell_type": "code",
   "execution_count": null,
   "metadata": {},
   "outputs": [],
   "source": []
  },
  {
   "cell_type": "code",
   "execution_count": null,
   "metadata": {},
   "outputs": [],
   "source": []
  }
 ],
 "metadata": {
  "kernelspec": {
   "display_name": "Python 3",
   "language": "python",
   "name": "python3"
  },
  "language_info": {
   "codemirror_mode": {
    "name": "ipython",
    "version": 3
   },
   "file_extension": ".py",
   "mimetype": "text/x-python",
   "name": "python",
   "nbconvert_exporter": "python",
   "pygments_lexer": "ipython3",
   "version": "3.7.6"
  }
 },
 "nbformat": 4,
 "nbformat_minor": 4
}
